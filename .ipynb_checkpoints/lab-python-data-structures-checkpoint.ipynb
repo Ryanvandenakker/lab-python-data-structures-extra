{
 "cells": [
  {
   "cell_type": "markdown",
   "metadata": {},
   "source": [
    "# Lab | Data Structures "
   ]
  },
  {
   "cell_type": "markdown",
   "metadata": {},
   "source": [
    "## Exercise 1: Working with Lists"
   ]
  },
  {
   "cell_type": "markdown",
   "metadata": {},
   "source": [
    "Imagine you are building a program for a teacher who wants to track the progress of their students throughout the semester. The teacher wants to input the grades of each student one by one, and get a summary of their performance. There are in total 5 students. You are tasked with building the program that will allow the teacher to do this easily.\n",
    "\n",
    "The program will prompt the teacher to enter the grades of each student. Once the teacher has entered all the grades, the program will calculate the total sum of the grades and display it on the screen. Then, the program will create a new list by selecting only the grades of the first, third, and fifth students entered by the teacher, and sort them in ascending order.\n",
    "\n",
    "Finally, the program will print out the new list, along with its length and the number of occurrences of the score 5 in the list. This will give the teacher a good overview of the performance of the selected students, and help them identify any potential issues early on."
   ]
  },
  {
   "cell_type": "markdown",
   "metadata": {},
   "source": [
    "*Hint:*\n",
    "- You can use the input() function to ask the user to enter their information.\n",
    "- Look for list methods to perform the tasks. \n",
    "- Remember, it is possible to get a part of the sequence using:\n",
    "\n",
    "    ```python\n",
    "    sequence[x:y:z]\n",
    "    ```\n",
    "    where x, y, z are integers.\n",
    "\n",
    "    The above returns a new sequence with the following characteristics:\n",
    "\n",
    "    - A sequence with the same type as the original (a slice of a list is a list, a slice of a tuple is a tuple, and a slice of a string is a string).\n",
    "    - A sequence with elements from `sequence [x]` to `sequence [y-1]` (does not include a sequence [y]). By skipping `z` elements each time, it can be omitted if ` z = 1`.\n"
   ]
  },
  {
   "cell_type": "markdown",
   "metadata": {},
   "source": [
    "*Recommended External Resources:*\n",
    "- *[Python Lists](https://www.w3schools.com/python/python_lists.asp)*\n",
    "- *[Python List Methods](https://www.w3schools.com/python/python_ref_list.asp)*\n",
    "- *[Python Built-in Functions](https://docs.python.org/3/library/functions.html)*\n"
   ]
  },
  {
   "cell_type": "code",
   "execution_count": 1,
   "metadata": {},
   "outputs": [
    {
     "name": "stdin",
     "output_type": "stream",
     "text": [
      "Enter the grade for student 1:  5\n",
      "Enter the grade for student 2:  70\n",
      "Enter the grade for student 3:  40\n",
      "Enter the grade for student 4:  60\n",
      "Enter the grade for student 5:  70\n"
     ]
    },
    {
     "name": "stdout",
     "output_type": "stream",
     "text": [
      "Total sum of grades: 245.0\n",
      "\n",
      "[5.0, 40.0, 70.0]\n",
      "\n",
      "The sorted grades of the first, third, and fifth students:  [5.0, 40.0, 70.0]\n",
      "\n",
      "The length of the new list is: 3\n",
      "\n"
     ]
    }
   ],
   "source": [
    "#Prompt the teacher to enter the grades of the 5 students\n",
    "grade_list = []\n",
    "\n",
    "for num in range(5):\n",
    "    grades = float(input(f\"Enter the grade for student {num + 1}: \"))\n",
    "    grade_list.append(grades)\n",
    "\n",
    "#Calculate the total grade from the list\n",
    "sum_grade = sum(grade_list)\n",
    "\n",
    "#Display the total grade\n",
    "print(f\"Total sum of grades: {sum_grade}\")\n",
    "print(\"\")\n",
    "\n",
    "#Select the grades of first, third, and fifth students\n",
    "selected_grades = grade_list[::2]\n",
    "print(selected_grades)\n",
    "print(\"\")\n",
    "\n",
    "selected_grades.sort()\n",
    "\n",
    "# Display the sorted selected grades\n",
    "print(\"The sorted grades of the first, third, and fifth students: \", selected_grades)\n",
    "print(\"\")\n",
    "\n",
    "#Print the length of the new list\n",
    "print(f\"The length of the new list is: {len(selected_grades)}\")\n",
    "print(\"\")\n",
    "\n",
    "# Count the number of occurrences of the score 5 in the new list\n"
   ]
  },
  {
   "cell_type": "markdown",
   "metadata": {},
   "source": [
    "## Exercise 2: Tuples"
   ]
  },
  {
   "cell_type": "markdown",
   "metadata": {},
   "source": [
    "Imagine you're running a fruit stand and want to keep track of your inventory. Write a Python program that does the following:\n",
    "\n",
    "- Initializes a tuple with 5 different types of fruit.\n",
    "- Outputs the first and last elements of the tuple, so you can see the full range of fruits the store offers.\n",
    "- Replaces the second element of the tuple with a new fruit that the store has recently received, and prints the updated tuple so you can see the changes.\n",
    "- Concatenates a new tuple containing 2 additional fruits to the original tuple, so you can add them to the store inventory, and prints the resulting tuple to see the updated inventory.\n",
    "- Splits the resulting tuple into 2 tuples of 3 elements each (the first tuple contains the first 3 elements, and the second tuple contains the last 3 elements), so you can organize the inventory more effectively.\n",
    "- Combines the 2 tuples from the previous step with the original tuple into a new tuple, and prints the resulting tuple and its length, so you can see the final inventory after all the changes."
   ]
  },
  {
   "cell_type": "markdown",
   "metadata": {},
   "source": [
    "*Recommended External Resources: [Python Tuples Examples and Methods](https://www.w3schools.com/python/python_tuples.asp)*\n",
    "\n"
   ]
  },
  {
   "cell_type": "code",
   "execution_count": null,
   "metadata": {},
   "outputs": [],
   "source": [
    "# Initializ a tuple\n",
    "fruits = (\"banana\", \"mango\", \"grape\", \"apple\", \"orange\")\n",
    "\n",
    "#Output the first and last elements\n",
    "print(\"First fruit:\", fruits[0])\n",
    "print(\"Last fruit:\", fruits[-1])\n",
    "\n",
    "#Replace the second element of the tuple with a new fruit\n",
    "new_fruit = \"strawberry\"\n",
    "\n",
    "fruits = fruits[:1] + (new_fruit, ) + fruits[2:] #to create a tuple with a single element, you need to include a comma after the element because the comma is what distinguishes it as a tuple. \n",
    "print(fruits)\n",
    "\n",
    "#Concatenate a new tuple containing 2 additional fruits\n",
    "additional_fruits = (\"kiwi\", \"pineapple\")\n",
    "updated_fruits_list = fruits + additional_fruits\n",
    "print(updated_fruits_list)\n",
    "\n",
    "#Split the tuples into 2 tuples of 3 elements each\n",
    "first_three = updated_fruits_list[:3]\n",
    "last_three = updated_fruits_list[3:]\n",
    "\n",
    "print(first_three)\n",
    "print(last_three)\n",
    "\n",
    "#Combine the 2 tuples and display its length \n",
    "combined_tuple = first_three + last_three\n",
    "print(\"The combined tuples are:\", combined_tuple)\n",
    "print(\"The length of the combined tuple is:\", len(combined_tuple))"
   ]
  },
  {
   "cell_type": "markdown",
   "metadata": {},
   "source": [
    "## Exercise 3: Sets"
   ]
  },
  {
   "cell_type": "markdown",
   "metadata": {},
   "source": [
    "Imagine you are a data analyst working for a literature museum. Your manager has given you two poems to analyze, and she wants you to write a Python program to extract useful information from them.\n",
    "\n",
    "Your program should:\n",
    "\n",
    "- Create two sets, one for each poem, containing all unique words in both poems (ignoring case and punctuation).\n",
    "- Print the number of unique words in each set.\n",
    "- Identify and print the unique words present in the first poem but not in the second one.\n",
    "- Identify and print the unique words present in the second poem but not in the first one.\n",
    "- Identify and print the unique words present in both poems and print it in alphabetical order."
   ]
  },
  {
   "cell_type": "markdown",
   "metadata": {},
   "source": [
    "*Recommended External Resources:*\n",
    "- *[Python Sets](https://www.w3schools.com/python/python_sets.asp)* \n",
    "- *[Python Set Methods](https://www.w3schools.com/python/python_ref_set.asp)*\n",
    "- *[Python String Methods](https://www.w3schools.com/python/python_ref_string.asp)*\n"
   ]
  },
  {
   "cell_type": "code",
   "execution_count": 3,
   "metadata": {},
   "outputs": [],
   "source": [
    "poem = \"\"\"Some say the world will end in fire,\n",
    "Some say in ice.\n",
    "From what I’ve tasted of desire\n",
    "I hold with those who favor fire.\n",
    "But if it had to perish twice,\n",
    "I think I know enough of hate\n",
    "To say that for destruction ice\n",
    "Is also great\n",
    "And would suffice.\"\"\"\n",
    "\n",
    "new_poem = \"\"\"Some say life is but a dream,\n",
    "Some say it's a test.\n",
    "From what I've seen and what I deem,\n",
    "I side with those who see it as a quest.\n",
    "\n",
    "But if it had to end today,\n",
    "I think I know enough of love,\n",
    "To say that though it fades away,\n",
    "It's still what we are made of.\"\"\""
   ]
  },
  {
   "cell_type": "code",
   "execution_count": 10,
   "metadata": {},
   "outputs": [
    {
     "name": "stdout",
     "output_type": "stream",
     "text": [
      "Number of unique words in the first poem:  41\n",
      "Number of unique words in the second poem:  42\n",
      "Unique words present in the first poem but not in the second poem: \n",
      "{'i’ve', 'for', 'perish', 'would', 'suffice', 'world', 'tasted', 'also', 'in', 'fire', 'will', 'desire', 'destruction', 'hold', 'great', 'ice', 'the', 'hate', 'twice', 'favor'}\n",
      "Unique words present in the second poem but not in the first poem: \n",
      "{'seen', 'its', 'life', 'away', 'test', 'still', 'side', 'as', 'quest', 'love', 'deem', 'see', 'made', 'dream', 'are', 'we', 'fades', 'today', 'a', 'ive', 'though'}\n",
      "Unique words present in both poems: \n",
      "{'is', 'end', 'it', 'say', 'those', 'if', 'had', 'think', 'know', 'who', 'of', 'with', 'i', 'but', 'some', 'enough', 'what', 'from', 'to', 'and', 'that'}\n"
     ]
    }
   ],
   "source": [
    "import string\n",
    "#Remove punctuation and convert to lowercase. Then split the text into individual words\n",
    "poem_words = poem.translate(str.maketrans('', '', string.punctuation)).lower().split()\n",
    "new_poem_words = new_poem.translate(str.maketrans('', '', string.punctuation)).lower().split()\n",
    "\n",
    "#Create sets of unique words\n",
    "unique_words_poem = set(poem_words) #Sets do not hold duplicates. Therefore, all words in the set is unique\n",
    "unique_words_new_poem = set(new_poem_words)\n",
    "\n",
    "#Print number of unique words in each set\n",
    "print(\"Number of unique words in the first poem: \", len(unique_words_poem))\n",
    "print(\"Number of unique words in the second poem: \", len(unique_words_new_poem))\n",
    "\n",
    "#Identify unique words present in the first poem but not in the second one\n",
    "present_in_first_not_second = unique_words_poem - unique_words_new_poem\n",
    "print(\"Unique words present in the first poem but not in the second poem: \")\n",
    "print(present_in_first_not_second)\n",
    "\n",
    "#Identify unique words present in the second poem but not in the first one\n",
    "present_in_second_not_first = unique_words_new_poem - unique_words_poem\n",
    "print(\"Unique words present in the second poem but not in the first poem: \")\n",
    "print(present_in_second_not_first)\n",
    "\n",
    "#Identify unique words present in both the first and second poem\n",
    "present_in_both_poems = unique_words_poem.intersection(unique_words_new_poem)\n",
    "print(\"Unique words present in both poems: \")\n",
    "print(present_in_both_poems)"
   ]
  },
  {
   "cell_type": "markdown",
   "metadata": {},
   "source": [
    "## Exercise 4: Dictionaries"
   ]
  },
  {
   "cell_type": "markdown",
   "metadata": {},
   "source": [
    "Consider the following dictionary of students with their scores in different subjects. One of the students, Bob, has complained about his score in Philosophy and, after reviewing it, the teacher has decided to update his score to 100. Write a Python program that updates Bob's score in Philosophy to 100 in the dictionary."
   ]
  },
  {
   "cell_type": "markdown",
   "metadata": {},
   "source": [
    "*Recommended External Resources: [Python Dictionary Examples and Methods](https://www.w3schools.com/python/python_dictionaries.asp)*\n"
   ]
  },
  {
   "cell_type": "code",
   "execution_count": 12,
   "metadata": {},
   "outputs": [],
   "source": [
    "grades = {'Alice': {'Physics': 75, 'Math': 85, 'Chemistry': 60, 'Philosophy': 90}, 'Bob': {'Physics': 75, 'Math': 85, 'Chemistry': 60, 'Philosophy': 90}}"
   ]
  },
  {
   "cell_type": "code",
   "execution_count": 14,
   "metadata": {},
   "outputs": [
    {
     "data": {
      "text/plain": [
       "{'Alice': {'Physics': 75, 'Math': 85, 'Chemistry': 60, 'Philosophy': 90},\n",
       " 'Bob': {'Physics': 75, 'Math': 85, 'Chemistry': 60, 'Philosophy': 100}}"
      ]
     },
     "execution_count": 14,
     "metadata": {},
     "output_type": "execute_result"
    }
   ],
   "source": [
    "grades[\"Bob\"][\"Philosophy\"] = 100\n",
    "grades"
   ]
  },
  {
   "cell_type": "markdown",
   "metadata": {},
   "source": [
    "## Bonus"
   ]
  },
  {
   "cell_type": "markdown",
   "metadata": {},
   "source": [
    "1. Below are the two lists. Write a Python program to convert them into a dictionary in a way that item from list1 is the key and item from list2 is the value."
   ]
  },
  {
   "cell_type": "markdown",
   "metadata": {},
   "source": [
    "*Hint: Use the zip() function. This function takes two or more iterables (like list, dict, string), aggregates them in a tuple, and returns it. Afterwards, you can use a function that turns a tuple into a dictionary.*"
   ]
  },
  {
   "cell_type": "markdown",
   "metadata": {},
   "source": [
    "*Recommended External Resources: [Python Zip Function](https://www.w3schools.com/python/ref_func_zip.asp)*\n"
   ]
  },
  {
   "cell_type": "code",
   "execution_count": 20,
   "metadata": {},
   "outputs": [
    {
     "name": "stdout",
     "output_type": "stream",
     "text": [
      "{'Physics': 75, 'Math': 85, 'Chemistry': 60, 'Philosophy': 90}\n"
     ]
    }
   ],
   "source": [
    "keys = ['Physics', 'Math', 'Chemistry', 'Philosophy']\n",
    "values = [75, 85, 60,90]\n",
    "\n",
    "x = dict(zip(keys, values))\n",
    "print(x)"
   ]
  },
  {
   "cell_type": "markdown",
   "metadata": {},
   "source": [
    "2. Get the subject with the minimum score from the previous dictionary."
   ]
  },
  {
   "cell_type": "markdown",
   "metadata": {},
   "source": [
    "*Hint: Use the built-in function min(). Read about the parameter key.*"
   ]
  },
  {
   "cell_type": "markdown",
   "metadata": {},
   "source": [
    "\n",
    "*Recommended External Resources:*\n",
    "- *[Python Min Function Official Documentation](https://docs.python.org/3.8/library/functions.html#min)*\n",
    "- *[How to use key function in max and min in Python](https://medium.com/analytics-vidhya/how-to-use-key-function-in-max-and-min-in-python-1fdbd661c59c)*"
   ]
  },
  {
   "cell_type": "code",
   "execution_count": 23,
   "metadata": {},
   "outputs": [
    {
     "name": "stdout",
     "output_type": "stream",
     "text": [
      "The subejct with the minimum score is: Chemistry\n"
     ]
    }
   ],
   "source": [
    "min_subject = min(x)\n",
    "print(\"The subejct with the minimum score is:\", min_subject)"
   ]
  }
 ],
 "metadata": {
  "kernelspec": {
   "display_name": "Python 3 (ipykernel)",
   "language": "python",
   "name": "python3"
  },
  "language_info": {
   "codemirror_mode": {
    "name": "ipython",
    "version": 3
   },
   "file_extension": ".py",
   "mimetype": "text/x-python",
   "name": "python",
   "nbconvert_exporter": "python",
   "pygments_lexer": "ipython3",
   "version": "3.11.7"
  }
 },
 "nbformat": 4,
 "nbformat_minor": 4
}
